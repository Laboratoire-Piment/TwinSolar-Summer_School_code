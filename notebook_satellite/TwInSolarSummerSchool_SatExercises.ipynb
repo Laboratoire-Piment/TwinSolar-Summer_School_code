{
 "cells": [
  {
   "cell_type": "markdown",
   "id": "f7b44773",
   "metadata": {
    "id": "f7b44773"
   },
   "source": [
    "# TwInSolar Summer School Satellite Exercises\n",
    "\n",
    "Welcome to the TwInSolar Summer School Satellite Exercises! This notebook contains a set of exercises designed to help you explore and analyse satellite irradiance data.\n",
    "\n",
    "### Prerequisites\n",
    "\n",
    "Before you begin, please ensure that you have the necessary dependencies installed. This notebook requires the following Python libraries:\n",
    "- xarray\n",
    "- numpy\n",
    "- matplotlib\n",
    "- pandas\n",
    "- jupyter\n",
    "\n",
    "### Setting Up the Environment\n",
    "\n",
    "To streamline the setup process, we recommend creating a dedicated Conda environment for this notebook. Follow the steps below to create and activate your environment, and install the required packages:\n",
    "\n",
    "1. Create a new Conda environment: `conda create --name twinsolar_sumemrschool_env`\n",
    "\n",
    "2. Activate the newly created environment: `conda activate twinsolar_sumemrschool_env`\n",
    "\n",
    "3. Install the necessary packages: `conda install xarray matplotlib pandas numpy jupyter`\n",
    "\n",
    "4. Launch Jupyter Notebook: `jupyter notebook`\n",
    "\n",
    "Once Jupyter Notebook is running, open this notebook to begin the exercises.\n",
    "\n",
    "### Data Provided\n",
    "\n",
    "Included with this notebook is a NetCDF file containing irradiance data. We will use this file to perform various analyses and visualisations throughout the exercises.\n",
    "\n",
    "### xarray\n",
    "\n",
    "For those unfamiliar, xarray is a powerful and flexible Python library designed for working with labeled multi-dimensional arrays, which are commonly encountered in scientific data analysis. It extends the capabilities of NumPy arrays by adding labels to dimensions, coordinates, and attributes, making it easier to work with complex datasets like those found in climate science, oceanography, and remote sensing.\n",
    "\n",
    "#### Key Features of xarray:\n",
    "- **Labeled Dimensions and Coordinates:** Access and manipulate data using meaningful labels rather than just integer indices.\n",
    "- **Dataset and DataArray Objects:** Organize multiple arrays into a single dataset, preserving the relationships between variables.\n",
    "- **Integration with NetCDF:** Seamlessly read and write NetCDF files, a common format for storing scientific data.\n",
    "- **Interoperability:** Works well with other scientific libraries such as NumPy, Pandas, and Matplotlib.\n",
    "- **Efficient Computation:** Supports parallel computation and lazy evaluation to handle large datasets efficiently.\n",
    "\n",
    "For more detailed information, please refer to the [xarray documentation](https://docs.xarray.dev/en/stable/getting-started-guide/index.html).\n",
    "\n",
    "### Let's Get Started!\n",
    "\n",
    "With your environment set up and the dependencies installed, you're ready to dive into the satellite data exercises."
   ]
  },
  {
   "cell_type": "code",
   "execution_count": null,
   "id": "b4f5b1b8",
   "metadata": {
    "executionInfo": {
     "elapsed": 1582,
     "status": "ok",
     "timestamp": 1721190929507,
     "user": {
      "displayName": "Mathieu David",
      "userId": "14788388643918253731"
     },
     "user_tz": -240
    },
    "id": "b4f5b1b8"
   },
   "outputs": [],
   "source": [
    "import numpy as np\n",
    "import pandas as pd\n",
    "import xarray as xr\n",
    "import matplotlib.pyplot as plt\n",
    "import urllib.request"
   ]
  },
  {
   "cell_type": "code",
   "execution_count": null,
   "id": "Y5sR_7TYqqMl",
   "metadata": {
    "colab": {
     "base_uri": "https://localhost:8080/"
    },
    "executionInfo": {
     "elapsed": 848,
     "status": "ok",
     "timestamp": 1721190944266,
     "user": {
      "displayName": "Mathieu David",
      "userId": "14788388643918253731"
     },
     "user_tz": -240
    },
    "id": "Y5sR_7TYqqMl",
    "outputId": "7cba5d34-62e4-4a90-de8a-685fd5161e98"
   },
   "outputs": [],
   "source": [
    "# import nc file from GitHub\n",
    "nc_file = \"20220701_20230101_sat_irrad_forecasts.nc\"\n",
    "url = \"https://github.com/Laboratoire-Piment/TwInSolar-Summer_shool_data/raw/main/\"\n",
    "urllib.request.urlretrieve(url+nc_file, nc_file)"
   ]
  },
  {
   "cell_type": "code",
   "execution_count": 3,
   "id": "7221089d",
   "metadata": {
    "executionInfo": {
     "elapsed": 1045,
     "status": "ok",
     "timestamp": 1721190949268,
     "user": {
      "displayName": "Mathieu David",
      "userId": "14788388643918253731"
     },
     "user_tz": -240
    },
    "id": "7221089d"
   },
   "outputs": [],
   "source": [
    "# edit the path to the sat_dataset_path\n",
    "\n",
    "sat_dataset_path = \"20220701_20230101_sat_irrad_forecasts.nc\"\n",
    "\n",
    "ds = xr.open_dataset(sat_dataset_path)"
   ]
  },
  {
   "cell_type": "code",
   "execution_count": null,
   "id": "c069707d",
   "metadata": {
    "colab": {
     "base_uri": "https://localhost:8080/",
     "height": 407
    },
    "executionInfo": {
     "elapsed": 744,
     "status": "ok",
     "timestamp": 1721190952298,
     "user": {
      "displayName": "Mathieu David",
      "userId": "14788388643918253731"
     },
     "user_tz": -240
    },
    "id": "c069707d",
    "outputId": "3ff3434f-da59-4bcf-a2a9-3514494b342e"
   },
   "outputs": [],
   "source": [
    "ds"
   ]
  },
  {
   "cell_type": "markdown",
   "id": "22b68ced",
   "metadata": {
    "id": "22b68ced"
   },
   "source": [
    "## 0. Description of the NetCDF File\n",
    "\n",
    "This NetCDF file contains irradiance data derived from satellite-based cloud motion vector irradiance forecasts. It includes multiple dimensions, coordinates, and data variables that provide comprehensive information about the irradiance measurements over time and space.\n",
    "\n",
    "#### Dimensions:\n",
    "- **base_time:** ~ 17k steps representing the base time points.\n",
    "- **step:** 13 steps indicating the time steps from the base time.\n",
    "- **location_id:** 1 location identifier, for one solar site in La Reunion\n",
    "\n",
    "#### Coordinates:\n",
    "- **base_time:** A datetime coordinate ranging from `2022-07-01T00:30:00` to `2023-01-01T00:00:00`, representing the base times of the measurements.\n",
    "- **step:** A timedelta coordinate ranging from `00:00:00` to `06:00:00`, representing the time steps after the base time.\n",
    "- **location_id:** An integer coordinate for location identification, always 0 since we only have one location.\n",
    "- **lat:** Latitude values for the given location.\n",
    "- **lon:** Longitude values for the given location.\n",
    "\n",
    "#### Data Variables:\n",
    "- **GHI:** Global Horizontal Irradiance values (float64) from satellite imagery for each combination of `location_id`, `base_time`, and `step`.\n",
    "- **solar_elevation:** Solar elevation angles (float32) ranges from 0 to 90, for each combination of `location_id`, `base_time`, and `step`.\n",
    "- **GHI_CAMS:** GHI from Copernicus Atmosphere Monitoring Service (CAMS) McClear Clear-Sky (float64) for each combination of `location_id`, `base_time`, and `step`.\n",
    "- **GHI_meas:** Measured Global Horizontal Irradiance values (float64) for each combination of `location_id`, `base_time`, and `step`.\n",
    "\n",
    "#### Indexes:\n",
    "There are 3 indexes used to organize the data.\n",
    "\n",
    "#### Attributes:\n",
    "- **title:** Describes the content as \"Satellite-based cloud motion vector irradiance forecast\".\n",
    "- **remarks:** Notes that the data represents 15-minute averages and is labeled right (end of interval).\n",
    "\n",
    "This file structure facilitates the analysis and visualization of solar irradiance data, enabling better understanding and forecasting of solar energy patterns."
   ]
  },
  {
   "cell_type": "markdown",
   "id": "14f0c52c",
   "metadata": {
    "id": "14f0c52c"
   },
   "source": [
    "## 1. Data Exploration"
   ]
  },
  {
   "cell_type": "markdown",
   "id": "3139533c",
   "metadata": {
    "id": "3139533c"
   },
   "source": [
    "##### 1.0 From the DataSet extract the Latitude and Longitude values."
   ]
  },
  {
   "cell_type": "code",
   "execution_count": null,
   "id": "3877ba5b",
   "metadata": {
    "colab": {
     "base_uri": "https://localhost:8080/"
    },
    "executionInfo": {
     "elapsed": 466,
     "status": "ok",
     "timestamp": 1721190962667,
     "user": {
      "displayName": "Mathieu David",
      "userId": "14788388643918253731"
     },
     "user_tz": -240
    },
    "id": "3877ba5b",
    "outputId": "b83b5a9e-5bab-4916-c7ae-3152dc6655af"
   },
   "outputs": [],
   "source": [
    "print(ds[\"lat\"].item())\n",
    "print(ds[\"lon\"].item())"
   ]
  },
  {
   "cell_type": "markdown",
   "id": "c1e511ee",
   "metadata": {
    "id": "c1e511ee"
   },
   "source": [
    "##### 1.0 Exactly how many base_times are there in the dataset? (roughtly 6 months x 30 days x 24 hours x 4)"
   ]
  },
  {
   "cell_type": "code",
   "execution_count": null,
   "id": "96f23bb7",
   "metadata": {
    "colab": {
     "base_uri": "https://localhost:8080/"
    },
    "executionInfo": {
     "elapsed": 493,
     "status": "ok",
     "timestamp": 1721190973003,
     "user": {
      "displayName": "Mathieu David",
      "userId": "14788388643918253731"
     },
     "user_tz": -240
    },
    "id": "96f23bb7",
    "outputId": "61c6151d-101d-42d6-835a-7c14d94edb47"
   },
   "outputs": [],
   "source": [
    "len(ds.base_time)"
   ]
  },
  {
   "cell_type": "markdown",
   "id": "cc1ed314",
   "metadata": {
    "id": "cc1ed314"
   },
   "source": [
    "##### 1.1 At step=0 what is the mean, median, and standard deviation, for irradiance (GHI) field over the entire time period?"
   ]
  },
  {
   "cell_type": "code",
   "execution_count": null,
   "id": "1e0ff999",
   "metadata": {
    "colab": {
     "base_uri": "https://localhost:8080/"
    },
    "executionInfo": {
     "elapsed": 465,
     "status": "ok",
     "timestamp": 1721190990292,
     "user": {
      "displayName": "Mathieu David",
      "userId": "14788388643918253731"
     },
     "user_tz": -240
    },
    "id": "1e0ff999",
    "outputId": "78241aa0-fb95-49f3-e099-d5f4d070ea0f"
   },
   "outputs": [],
   "source": [
    "print(f\"Mean GHI: {ds.isel(step=0)['GHI'].mean().item():.2f}\")\n",
    "print(f\"Median GHI: {ds.isel(step=0)['GHI'].median().item():.2f}\")\n",
    "print(f\"Standard Deviation GHI: {ds.isel(step=0)['GHI'].std().item():.2f}\")"
   ]
  },
  {
   "cell_type": "markdown",
   "id": "71b48c8a",
   "metadata": {
    "id": "71b48c8a"
   },
   "source": [
    "##### 1.2 At step=0 what is the mean, median, and standard deviation, for the measured irradiance (GHI_meas) field over the entire time period?"
   ]
  },
  {
   "cell_type": "code",
   "execution_count": null,
   "id": "b471975a",
   "metadata": {
    "colab": {
     "base_uri": "https://localhost:8080/"
    },
    "executionInfo": {
     "elapsed": 498,
     "status": "ok",
     "timestamp": 1721191015286,
     "user": {
      "displayName": "Mathieu David",
      "userId": "14788388643918253731"
     },
     "user_tz": -240
    },
    "id": "b471975a",
    "outputId": "6e5ecbe1-fc71-4559-b754-359d47e6387c"
   },
   "outputs": [],
   "source": [
    "print(f\"Mean GHI: {ds.isel(step=0)['GHI_meas'].mean().item():.2f}\")\n",
    "print(f\"Median GHI: {ds.isel(step=0)['GHI_meas'].median().item():.2f}\")\n",
    "print(f\"Standard Deviation GHI: {ds.isel(step=0)['GHI_meas'].std().item():.2f}\")"
   ]
  },
  {
   "cell_type": "markdown",
   "id": "dc7404b2",
   "metadata": {
    "id": "dc7404b2"
   },
   "source": [
    "##### 1.3 At step=0 what is the mean, median, and standard deviation, for the clearsky irradiance (GHI_CAMS) field over the entire time period?"
   ]
  },
  {
   "cell_type": "code",
   "execution_count": null,
   "id": "ce04e0cf",
   "metadata": {
    "colab": {
     "base_uri": "https://localhost:8080/"
    },
    "executionInfo": {
     "elapsed": 459,
     "status": "ok",
     "timestamp": 1721191025624,
     "user": {
      "displayName": "Mathieu David",
      "userId": "14788388643918253731"
     },
     "user_tz": -240
    },
    "id": "ce04e0cf",
    "outputId": "b7569d31-b7b8-4a9e-f7ac-f344937f9509"
   },
   "outputs": [],
   "source": [
    "print(f\"Mean GHI: {ds.isel(step=0)['GHI_CAMS'].mean().item():.2f}\")\n",
    "print(f\"Median GHI: {ds.isel(step=0)['GHI_CAMS'].median().item():.2f}\")\n",
    "print(f\"Standard Deviation GHI: {ds.isel(step=0)['GHI_CAMS'].std().item():.2f}\")"
   ]
  },
  {
   "cell_type": "markdown",
   "id": "4f53336a",
   "metadata": {
    "id": "4f53336a"
   },
   "source": [
    "## 2. Solar Zenith"
   ]
  },
  {
   "cell_type": "markdown",
   "id": "b3a5e3f0",
   "metadata": {
    "id": "b3a5e3f0"
   },
   "source": [
    "##### 2.0 Create a new variable in the DataSet called the \"cos_solar_zenith\" $\\cos{\\theta_z}$, which is calculated as $\\cos{(90 ^\\circ - \\alpha)}$, where $\\alpha$ is the  solar elevation. Remeber to first convert degrees to radians.\n",
    "\n",
    "hint: you can use np.cos, and np.deg2rad"
   ]
  },
  {
   "cell_type": "code",
   "execution_count": 11,
   "id": "e0c1bee9",
   "metadata": {
    "executionInfo": {
     "elapsed": 515,
     "status": "ok",
     "timestamp": 1721191043134,
     "user": {
      "displayName": "Mathieu David",
      "userId": "14788388643918253731"
     },
     "user_tz": -240
    },
    "id": "e0c1bee9"
   },
   "outputs": [],
   "source": [
    "# cos_solar_zenith 0-1\n",
    "ds[\"cos_solar_zenith\"] = np.cos(np.deg2rad(90 - ds[\"solar_elevation\"]))"
   ]
  },
  {
   "cell_type": "markdown",
   "id": "f72ddcd8",
   "metadata": {
    "id": "f72ddcd8"
   },
   "source": [
    "## 3. Filter Dataset"
   ]
  },
  {
   "cell_type": "markdown",
   "id": "53fbaa50",
   "metadata": {
    "id": "53fbaa50"
   },
   "source": [
    "##### 3.1 Plot a histogram (with 100 bins) of the GHI values at step=0 ."
   ]
  },
  {
   "cell_type": "code",
   "execution_count": null,
   "id": "bca5d332",
   "metadata": {
    "colab": {
     "base_uri": "https://localhost:8080/",
     "height": 770
    },
    "executionInfo": {
     "elapsed": 1153,
     "status": "ok",
     "timestamp": 1721191063513,
     "user": {
      "displayName": "Mathieu David",
      "userId": "14788388643918253731"
     },
     "user_tz": -240
    },
    "id": "bca5d332",
    "outputId": "d28017d2-9aa5-4430-cd07-fd2022d8cb5e"
   },
   "outputs": [],
   "source": [
    "plt.hist(ds.isel(step=0)['GHI'].values.flatten(), bins=50)"
   ]
  },
  {
   "cell_type": "markdown",
   "id": "13a0c1db",
   "metadata": {
    "id": "13a0c1db"
   },
   "source": [
    "### 3.2 Create a new dataset called \"df_filter\" that filters the data based on these conditions:\n",
    "    1. solar zenith angle > 0 (values during the day)\n",
    "    2. solar zenith angle at step 0 is greater than 0.15 (forecasting with sufficient illumination of first step)\n",
    "    3. keep only values where \"GHI_meas\" and \"GHI\" are notnull (for evaluation both are required)  "
   ]
  },
  {
   "cell_type": "code",
   "execution_count": 13,
   "id": "1b29bbc0",
   "metadata": {
    "executionInfo": {
     "elapsed": 438,
     "status": "ok",
     "timestamp": 1721191071993,
     "user": {
      "displayName": "Mathieu David",
      "userId": "14788388643918253731"
     },
     "user_tz": -240
    },
    "id": "1b29bbc0"
   },
   "outputs": [],
   "source": [
    "ds_filter = ds.copy()\n",
    "ds_filter = ds_filter.where(ds_filter[\"cos_solar_zenith\"] > 0)\n",
    "ds_filter = ds_filter.where(ds_filter[\"cos_solar_zenith\"].isel(step=0) > 0.15)\n",
    "ds_filter = ds.where(ds_filter['GHI_meas'].notnull() & ds_filter['GHI'].notnull())"
   ]
  },
  {
   "cell_type": "code",
   "execution_count": null,
   "id": "832e048b",
   "metadata": {
    "colab": {
     "base_uri": "https://localhost:8080/",
     "height": 428
    },
    "executionInfo": {
     "elapsed": 937,
     "status": "ok",
     "timestamp": 1721191075193,
     "user": {
      "displayName": "Mathieu David",
      "userId": "14788388643918253731"
     },
     "user_tz": -240
    },
    "id": "832e048b",
    "outputId": "6352c43f-f058-4577-a71c-c6967e69d6b9"
   },
   "outputs": [],
   "source": [
    "ds_filter"
   ]
  },
  {
   "cell_type": "markdown",
   "id": "ee0145ca",
   "metadata": {
    "id": "ee0145ca"
   },
   "source": [
    "##### 3.2 Plot a histogram of the filtered datset with GHI values at step=0 with 100 bins"
   ]
  },
  {
   "cell_type": "code",
   "execution_count": null,
   "id": "176e2e1c",
   "metadata": {
    "colab": {
     "base_uri": "https://localhost:8080/",
     "height": 753
    },
    "executionInfo": {
     "elapsed": 1522,
     "status": "ok",
     "timestamp": 1721191080714,
     "user": {
      "displayName": "Mathieu David",
      "userId": "14788388643918253731"
     },
     "user_tz": -240
    },
    "id": "176e2e1c",
    "outputId": "f58ffe24-5549-4a4d-cb8f-d0207e973827"
   },
   "outputs": [],
   "source": [
    "plt.hist(ds_filter.isel(step=0)['GHI'].values.flatten(), bins=50)"
   ]
  },
  {
   "cell_type": "markdown",
   "id": "393ed8fb",
   "metadata": {
    "id": "393ed8fb"
   },
   "source": [
    "##### 3.3 Create boxplots with the filtered data for each week in the dataset plot the GHI values."
   ]
  },
  {
   "cell_type": "code",
   "execution_count": null,
   "id": "bb057ce7",
   "metadata": {
    "colab": {
     "base_uri": "https://localhost:8080/",
     "height": 649
    },
    "executionInfo": {
     "elapsed": 1308,
     "status": "ok",
     "timestamp": 1721191087047,
     "user": {
      "displayName": "Mathieu David",
      "userId": "14788388643918253731"
     },
     "user_tz": -240
    },
    "id": "bb057ce7",
    "outputId": "ad6fcb5f-08bf-4e29-a366-8c112cd9d4bc"
   },
   "outputs": [],
   "source": [
    "def plot_monthly_ghi_boxplots(ds, step=0, location_id=0):\n",
    "    \"\"\"\n",
    "    Plots boxplots of GHI values for each month.\n",
    "\n",
    "    Parameters:\n",
    "    ds (xarray.Dataset): The dataset containing GHI variables.\n",
    "    step (int, optional): The step index to select. Default is 0.\n",
    "    location_id (int, optional): The location_id to select. Default is 0.\n",
    "    \"\"\"\n",
    "    # Filter the dataset based on step and location_id\n",
    "    ds = ds.isel(step=step, location_id=location_id)\n",
    "\n",
    "    # Group by each month in base_time\n",
    "    monthly_grouped = ds.groupby('base_time.week')\n",
    "\n",
    "    # Create a dictionary to store DataFrames for each month\n",
    "    monthly_dfs = {}\n",
    "\n",
    "    # Iterate over the grouped object and extract GHI values\n",
    "    for month, group in monthly_grouped:\n",
    "        monthly_ghi = group['GHI'].to_dataframe().reset_index()\n",
    "        monthly_dfs[month] = monthly_ghi[['base_time', 'GHI']].set_index('base_time').rename(columns={'GHI': f'GHI_{month}'})\n",
    "\n",
    "    # Concatenate all monthly DataFrames into a single DataFrame\n",
    "    result_df = pd.concat(monthly_dfs.values(), axis=1)\n",
    "\n",
    "    # Plot boxplots\n",
    "    plt.figure(figsize=(12, 6))\n",
    "    result_df.boxplot(grid=False)\n",
    "    plt.title('Monthly GHI Values')\n",
    "    plt.xlabel('Month')\n",
    "    plt.ylabel('GHI')\n",
    "    plt.xticks(rotation=45)\n",
    "    plt.show()\n",
    "\n",
    "plot_monthly_ghi_boxplots(ds_filter)"
   ]
  },
  {
   "cell_type": "markdown",
   "id": "ce724e2f",
   "metadata": {
    "id": "ce724e2f"
   },
   "source": [
    "## Validation"
   ]
  },
  {
   "cell_type": "markdown",
   "id": "254b2284",
   "metadata": {
    "id": "254b2284"
   },
   "source": [
    "##### 3.3 Create a function that takes an xarray DataSet \"ds\", a \"step\" value, and plots a scatter plot, for a given step with the \"GHI\" on the y-axis, and the \"GHI_meas\" on the x-axis, to investigate any systematic difference between the observation, and predicted."
   ]
  },
  {
   "cell_type": "code",
   "execution_count": 17,
   "id": "866d0dfc",
   "metadata": {
    "executionInfo": {
     "elapsed": 453,
     "status": "ok",
     "timestamp": 1721191098735,
     "user": {
      "displayName": "Mathieu David",
      "userId": "14788388643918253731"
     },
     "user_tz": -240
    },
    "id": "866d0dfc"
   },
   "outputs": [],
   "source": [
    "def plot_irradiance_comparison(ds, step, max_irr=1200):\n",
    "    \"\"\"\n",
    "    Plots the comparison between measured GHI and satellite forecasted GHI.\n",
    "\n",
    "    Parameters:\n",
    "    ds (xarray.Dataset): The dataset containing GHI and GHI_meas variables.\n",
    "    step (int): The step index to select.\n",
    "    max_irr (int, optional): The maximum irradiance value for the plot. Default is 1200.\n",
    "    \"\"\"\n",
    "    fig, ax = plt.subplots(figsize=(10, 10))\n",
    "\n",
    "    ds_ = ds.isel(step=step)\n",
    "    GHI_step, GHI_meas_step = ds_[\"GHI\"].values.squeeze(), ds_[\"GHI_meas\"].values.squeeze()\n",
    "    mask = ~np.isnan(GHI_meas_step)\n",
    "\n",
    "    scatter = ax.scatter(GHI_meas_step[mask], GHI_step[mask], s=2, alpha=0.4, color=\"blue\")\n",
    "    ax.plot([0, max_irr], [0, max_irr], 'r--')\n",
    "    ax.set_xlim(0, max_irr)\n",
    "    ax.set_ylim(0, max_irr)\n",
    "    ax.set_xlabel('GHI-meas [W/m²]')\n",
    "    ax.set_ylabel('GHI-sat-forecast [W/m²]')\n",
    "    ax.title.set_text(f'Irradiance Meas vs Sat Forecast:\\nstep={step}, mins={step*30}')\n",
    "\n",
    "    plt.show()"
   ]
  },
  {
   "cell_type": "code",
   "execution_count": null,
   "id": "29efea44",
   "metadata": {
    "colab": {
     "base_uri": "https://localhost:8080/",
     "height": 893
    },
    "executionInfo": {
     "elapsed": 1931,
     "status": "ok",
     "timestamp": 1721191104985,
     "user": {
      "displayName": "Mathieu David",
      "userId": "14788388643918253731"
     },
     "user_tz": -240
    },
    "id": "29efea44",
    "outputId": "636e3ca9-74aa-4e37-8393-9081e53d7f2a"
   },
   "outputs": [],
   "source": [
    "plot_irradiance_comparison(ds_filter, step=1)"
   ]
  },
  {
   "cell_type": "markdown",
   "id": "e6296d5d",
   "metadata": {
    "id": "e6296d5d"
   },
   "source": [
    "##### 3.4 Now calculate the root mean squared error between the measured \"GHI_meas\" and the predicted \"GHI\" at each step in the dataset. Create a function called \"calculate_rmse_at_step\" that takes a dataset \"ds\" and a \"step\".\n",
    "\n",
    "The RMSE is given the RMSE formula:  $\\text{RMSE} = \\sqrt{\\frac{1}{n} \\sum_{i=1}^{n} (y_i - \\hat{y}_i)^2}$\n",
    "\n",
    "hint: Take care to remove nan values"
   ]
  },
  {
   "cell_type": "code",
   "execution_count": 19,
   "id": "da27b110",
   "metadata": {
    "executionInfo": {
     "elapsed": 517,
     "status": "ok",
     "timestamp": 1721191111432,
     "user": {
      "displayName": "Mathieu David",
      "userId": "14788388643918253731"
     },
     "user_tz": -240
    },
    "id": "da27b110"
   },
   "outputs": [],
   "source": [
    "def calculate_rmse_at_step(ds, step):\n",
    "    ds_ = ds.isel(step=step)\n",
    "    GHI_step, GHI_meas_step = ds_[\"GHI\"].values.squeeze(), ds_[\"GHI_meas\"].values.squeeze()\n",
    "    mask = ~np.isnan(GHI_meas_step)\n",
    "\n",
    "    return np.sqrt(np.nanmean((GHI_step - GHI_meas_step) ** 2))"
   ]
  },
  {
   "cell_type": "markdown",
   "id": "8703ed9c",
   "metadata": {
    "id": "8703ed9c"
   },
   "source": [
    "##### 3.5 Using the function \"calculate_rmse_at_step\", for all steps in the DataSet, calculate the RMSE value, and plot the step on the \"x-axis\" agains the RMSE on the \"y-axis\"."
   ]
  },
  {
   "cell_type": "code",
   "execution_count": null,
   "id": "1a2af2ef",
   "metadata": {
    "colab": {
     "base_uri": "https://localhost:8080/",
     "height": 447
    },
    "executionInfo": {
     "elapsed": 1231,
     "status": "ok",
     "timestamp": 1721191116465,
     "user": {
      "displayName": "Mathieu David",
      "userId": "14788388643918253731"
     },
     "user_tz": -240
    },
    "id": "1a2af2ef",
    "outputId": "f9653c26-f211-4be8-8c2b-bce36d23607f"
   },
   "outputs": [],
   "source": [
    "pd.DataFrame([calculate_rmse_at_step(ds_filter, x) for x in range(13)], columns=[\"rel_rmse\"]).plot()"
   ]
  },
  {
   "cell_type": "markdown",
   "id": "7f71758c",
   "metadata": {
    "id": "7f71758c"
   },
   "source": [
    "##### 3.6 Now create a function \"rmse\"rel\" to calculate the RMSE relative to the \"GHI_meas for each step, to do this take the RMSE value at each step and divide by the mean of all the \"GHI_meas\" values for that step."
   ]
  },
  {
   "cell_type": "code",
   "execution_count": 21,
   "id": "0ff839fa",
   "metadata": {
    "executionInfo": {
     "elapsed": 500,
     "status": "ok",
     "timestamp": 1721191125358,
     "user": {
      "displayName": "Mathieu David",
      "userId": "14788388643918253731"
     },
     "user_tz": -240
    },
    "id": "0ff839fa"
   },
   "outputs": [],
   "source": [
    "def rmse_rel(ds, step):\n",
    "    step_mean_GHI = ds.isel(step=step)[\"GHI_meas\"].mean()\n",
    "    step_rmse = calculate_rmse_at_step(ds, step)\n",
    "    return float( step_rmse / step_mean_GHI * 100)"
   ]
  },
  {
   "cell_type": "markdown",
   "id": "76e2401f",
   "metadata": {
    "id": "76e2401f"
   },
   "source": [
    "##### 3.5 Using the function \"rmse_rel\", for all steps in the DataSet, calculate the relative RMSE value, and plot the step on the \"x-axis\" agains the RMSE on the \"y-axis\"."
   ]
  },
  {
   "cell_type": "code",
   "execution_count": null,
   "id": "26340df0",
   "metadata": {
    "id": "26340df0"
   },
   "outputs": [],
   "source": [
    "pd.DataFrame([rmse_rel(ds_filter, x) for x in range(13)], columns=[\"rel_rmse\"]).plot()"
   ]
  },
  {
   "cell_type": "code",
   "execution_count": null,
   "id": "90960e64",
   "metadata": {
    "id": "90960e64"
   },
   "outputs": [],
   "source": [
    "!pip install jupyter_contrib_nbextensions"
   ]
  },
  {
   "cell_type": "code",
   "execution_count": null,
   "id": "2f19fae6",
   "metadata": {
    "id": "2f19fae6"
   },
   "outputs": [],
   "source": [
    "!pip install jupyter_nbextensions_configurator"
   ]
  },
  {
   "cell_type": "code",
   "execution_count": null,
   "id": "323ad877",
   "metadata": {
    "id": "323ad877"
   },
   "outputs": [],
   "source": [
    "!jupyter contrib nbextension install --user"
   ]
  },
  {
   "cell_type": "code",
   "execution_count": null,
   "id": "e085f1e9",
   "metadata": {
    "id": "e085f1e9"
   },
   "outputs": [],
   "source": [
    "!jupyter nbextensions_configurator enable --user"
   ]
  },
  {
   "cell_type": "code",
   "execution_count": null,
   "id": "02109fa1",
   "metadata": {
    "id": "02109fa1"
   },
   "outputs": [],
   "source": []
  }
 ],
 "metadata": {
  "colab": {
   "provenance": []
  },
  "jupytext": {
   "cell_metadata_filter": "-all",
   "encoding": "# -*- coding: utf-8 -*-",
   "executable": "/usr/bin/env python3",
   "notebook_metadata_filter": "-all",
   "text_representation": {
    "extension": ".py",
    "format_name": "percent"
   }
  },
  "kernelspec": {
   "display_name": "Python 3 (ipykernel)",
   "language": "python",
   "name": "python3"
  },
  "language_info": {
   "codemirror_mode": {
    "name": "ipython",
    "version": 3
   },
   "file_extension": ".py",
   "mimetype": "text/x-python",
   "name": "python",
   "nbconvert_exporter": "python",
   "pygments_lexer": "ipython3",
   "version": "3.10.9"
  }
 },
 "nbformat": 4,
 "nbformat_minor": 5
}
