{
 "cells": [
  {
   "cell_type": "markdown",
   "id": "8e3ef667",
   "metadata": {},
   "source": [
    "# ASI forecast documentation"
   ]
  },
  {
   "cell_type": "code",
   "execution_count": null,
   "id": "add61530",
   "metadata": {},
   "outputs": [],
   "source": [
    "import xarray as xr\n",
    "import os\n",
    "import pandas as pd"
   ]
  },
  {
   "cell_type": "markdown",
   "id": "8bd121de",
   "metadata": {},
   "source": [
    "## Opening forecast files\n",
    "\n",
    "Forecasts are stored as daily files with YYYYMMDD name format.\n",
    "Dataformat is netcdf (.nc) and can be opened with xarray."
   ]
  },
  {
   "cell_type": "code",
   "execution_count": null,
   "id": "fb0350cb",
   "metadata": {},
   "outputs": [],
   "source": [
    "path = 'twin/ASI_daily'\n",
    "ds = xr.open_dataset(os.path.join(path,'20240411.nc'))\n",
    "\n",
    "ds"
   ]
  },
  {
   "cell_type": "markdown",
   "id": "29aef254",
   "metadata": {},
   "source": [
    "Datasets have the dimensions step, basetime, xy and locationID.<br>\n",
    "- basetime: starting time of each forecast run in UTC\n",
    "- step: forecasting steps with minute resolution, 30 min ahead. The time the forecast is valid for = basetime + step\n",
    "- locationID: ID of location for which forecasts are computed. Here, we only computed for one location (position of uni sky imager)\n",
    "- xy: x and y pixel index\n",
    "\n",
    "\n",
    "Variables:\n",
    "- GHI_fc: forecasted GHI in W/m²\n",
    "- zenith and azimuth: corresponding sun angles (probably not required here, but computed in the process)\n",
    "- sunpixel: pixelindex of sun in corresponding ASI image (probably not required here, but computed in the process)"
   ]
  },
  {
   "cell_type": "markdown",
   "id": "ad3cdc0b",
   "metadata": {},
   "source": [
    "## Selecting Data\n",
    "\n",
    "To select a specific forecast run you can e.g. do:"
   ]
  },
  {
   "cell_type": "code",
   "execution_count": null,
   "id": "a8adccd7",
   "metadata": {},
   "outputs": [],
   "source": [
    "fc_basetime = pd.Timestamp('2024-04-11 T6:00')\n",
    "fc_run = ds.GHI_fc.sel(locationID='sun', basetime=fc_basetime)\n",
    "print(fc_run)\n"
   ]
  },
  {
   "cell_type": "code",
   "execution_count": null,
   "id": "86d7222e",
   "metadata": {},
   "outputs": [],
   "source": [
    "# to get the data as numpy array\n",
    "print(fc_run.data)"
   ]
  },
  {
   "cell_type": "markdown",
   "id": "a80a630f",
   "metadata": {},
   "source": [
    "further information on selecting and indexing data with xarray can be found here: <br>\n",
    "https://docs.xarray.dev/en/stable/user-guide/indexing.html"
   ]
  }
 ],
 "metadata": {
  "kernelspec": {
   "display_name": "Python 3 (ipykernel)",
   "language": "python",
   "name": "python3"
  },
  "language_info": {
   "codemirror_mode": {
    "name": "ipython",
    "version": 3
   },
   "file_extension": ".py",
   "mimetype": "text/x-python",
   "name": "python",
   "nbconvert_exporter": "python",
   "pygments_lexer": "ipython3",
   "version": "3.9.16"
  },
  "varInspector": {
   "cols": {
    "lenName": 16,
    "lenType": 16,
    "lenVar": 40
   },
   "kernels_config": {
    "python": {
     "delete_cmd_postfix": "",
     "delete_cmd_prefix": "del ",
     "library": "var_list.py",
     "varRefreshCmd": "print(var_dic_list())"
    },
    "r": {
     "delete_cmd_postfix": ") ",
     "delete_cmd_prefix": "rm(",
     "library": "var_list.r",
     "varRefreshCmd": "cat(var_dic_list()) "
    }
   },
   "types_to_exclude": [
    "module",
    "function",
    "builtin_function_or_method",
    "instance",
    "_Feature"
   ],
   "window_display": false
  }
 },
 "nbformat": 4,
 "nbformat_minor": 5
}
